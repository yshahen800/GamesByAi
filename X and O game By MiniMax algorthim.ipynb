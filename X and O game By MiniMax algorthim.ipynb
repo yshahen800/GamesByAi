{
 "cells": [
  {
   "cell_type": "code",
   "execution_count": 8,
   "id": "9168a48f-4fff-4bb4-a845-4e0295e40dfd",
   "metadata": {},
   "outputs": [
    {
     "name": "stdout",
     "output_type": "stream",
     "text": [
      "Welcome to Tic Tac Toe!\n",
      "  |   |  \n",
      "  |   |  \n",
      "  |   |  \n",
      "\n"
     ]
    },
    {
     "name": "stdin",
     "output_type": "stream",
     "text": [
      "Enter your move (row and column, 0-2, separated by space):  1\n"
     ]
    },
    {
     "name": "stdout",
     "output_type": "stream",
     "text": [
      "Invalid input! Enter row and column as numbers between 0 and 2.\n"
     ]
    },
    {
     "name": "stdin",
     "output_type": "stream",
     "text": [
      "Enter your move (row and column, 0-2, separated by space):  1 2\n"
     ]
    },
    {
     "name": "stdout",
     "output_type": "stream",
     "text": [
      "  |   |  \n",
      "  |   | X\n",
      "  |   |  \n",
      "\n",
      "AI move:\n",
      "  |   | O\n",
      "  |   | X\n",
      "  |   |  \n",
      "\n"
     ]
    },
    {
     "name": "stdin",
     "output_type": "stream",
     "text": [
      "Enter your move (row and column, 0-2, separated by space):  1 1\n"
     ]
    },
    {
     "name": "stdout",
     "output_type": "stream",
     "text": [
      "  |   | O\n",
      "  | X | X\n",
      "  |   |  \n",
      "\n",
      "AI move:\n",
      "  |   | O\n",
      "O | X | X\n",
      "  |   |  \n",
      "\n"
     ]
    },
    {
     "name": "stdin",
     "output_type": "stream",
     "text": [
      "Enter your move (row and column, 0-2, separated by space):  0 1\n"
     ]
    },
    {
     "name": "stdout",
     "output_type": "stream",
     "text": [
      "  | X | O\n",
      "O | X | X\n",
      "  |   |  \n",
      "\n",
      "AI move:\n",
      "  | X | O\n",
      "O | X | X\n",
      "  | O |  \n",
      "\n"
     ]
    },
    {
     "name": "stdin",
     "output_type": "stream",
     "text": [
      "Enter your move (row and column, 0-2, separated by space):  0 0\n"
     ]
    },
    {
     "name": "stdout",
     "output_type": "stream",
     "text": [
      "X | X | O\n",
      "O | X | X\n",
      "  | O |  \n",
      "\n",
      "AI move:\n",
      "X | X | O\n",
      "O | X | X\n",
      "  | O | O\n",
      "\n"
     ]
    },
    {
     "name": "stdin",
     "output_type": "stream",
     "text": [
      "Enter your move (row and column, 0-2, separated by space):  2 0\n"
     ]
    },
    {
     "name": "stdout",
     "output_type": "stream",
     "text": [
      "X | X | O\n",
      "O | X | X\n",
      "X | O | O\n",
      "\n",
      "It's a draw!\n"
     ]
    }
   ],
   "source": [
    "import math\n",
    "\n",
    "\n",
    "def print_board(board):\n",
    "    for row in board:\n",
    "        print(\" | \".join(row))\n",
    "    print()\n",
    "\n",
    "\n",
    "def check_winner(board):\n",
    "    \n",
    "    for row in board:\n",
    "        if row[0] == row[1] == row[2] and row[0] != ' ':\n",
    "            return row[0]\n",
    "    for col in range(3):\n",
    "        if board[0][col] == board[1][col] == board[2][col] and board[0][col] != ' ':\n",
    "            return board[0][col]\n",
    "    if board[0][0] == board[1][1] == board[2][2] and board[0][0] != ' ':\n",
    "        return board[0][0]\n",
    "    if board[0][2] == board[1][1] == board[2][0] and board[0][2] != ' ':\n",
    "        return board[0][2]\n",
    "    return None\n",
    "\n",
    "def is_full(board):\n",
    "    return all(cell != ' ' for row in board for cell in row)\n",
    "\n",
    "\n",
    "def minimax(board, is_maximizing):\n",
    "    winner = check_winner(board)\n",
    "    if winner == 'O':\n",
    "        return 1\n",
    "    elif winner == 'X':\n",
    "        return -1\n",
    "    elif is_full(board):\n",
    "        return 0\n",
    "\n",
    "    if is_maximizing:\n",
    "        best_score = -math.inf\n",
    "        for i in range(3):\n",
    "            for j in range(3):\n",
    "                if board[i][j] == ' ':\n",
    "                    board[i][j] = 'O'\n",
    "                    score = minimax(board, False)\n",
    "                    board[i][j] = ' '\n",
    "                    best_score = max(score, best_score)\n",
    "        return best_score\n",
    "    else:\n",
    "        best_score = math.inf\n",
    "        for i in range(3):\n",
    "            for j in range(3):\n",
    "                if board[i][j] == ' ':\n",
    "                    board[i][j] = 'X'\n",
    "                    score = minimax(board, True)\n",
    "                    board[i][j] = ' '\n",
    "                    best_score = min(score, best_score)\n",
    "        return best_score\n",
    "\n",
    "\n",
    "def ai_move(board):\n",
    "    best_score = -math.inf\n",
    "    move = None\n",
    "    for i in range(3):\n",
    "        for j in range(3):\n",
    "            if board[i][j] == ' ':\n",
    "                board[i][j] = 'O'\n",
    "                score = minimax(board, False)\n",
    "                board[i][j] = ' '\n",
    "                if score > best_score:\n",
    "                    best_score = score\n",
    "                    move = (i, j)\n",
    "    if move:\n",
    "        board[move[0]][move[1]] = 'O'\n",
    "\n",
    "\n",
    "def play_game():\n",
    "    board = [[' ' for _ in range(3)] for _ in range(3)]\n",
    "    print(\"Welcome to Tic Tac Toe!\")\n",
    "    print_board(board)\n",
    "\n",
    "    while True:\n",
    "\n",
    "        while True:\n",
    "            try:\n",
    "                row, col = map(int, input(\"Enter your move (row and column, 0-2, separated by space): \").split())\n",
    "                if board[row][col] == ' ':\n",
    "                    board[row][col] = 'X'\n",
    "                    break\n",
    "                else:\n",
    "                    print(\"Cell is already occupied! Try again.\")\n",
    "            except (ValueError, IndexError):\n",
    "                print(\"Invalid input! Enter row and column as numbers between 0 and 2.\")\n",
    "        \n",
    "        print_board(board)\n",
    "        \n",
    "        if check_winner(board):\n",
    "            print(\"You win!\")\n",
    "            break\n",
    "        if is_full(board):\n",
    "            print(\"It's a draw!\")\n",
    "            break\n",
    "\n",
    "\n",
    "        ai_move(board)\n",
    "        print(\"AI move:\")\n",
    "        print_board(board)\n",
    "\n",
    "        if check_winner(board):\n",
    "            print(\"AI wins!\")\n",
    "            break\n",
    "        if is_full(board):\n",
    "            print(\"It's a draw!\")\n",
    "            break\n",
    "\n",
    "\n",
    "if __name__ == \"__main__\":\n",
    "    play_game()\n"
   ]
  },
  {
   "cell_type": "code",
   "execution_count": null,
   "id": "9c95efbf-c0cb-4cd0-800c-232fae93b288",
   "metadata": {},
   "outputs": [],
   "source": []
  },
  {
   "cell_type": "code",
   "execution_count": 22,
   "id": "3b25d004-d0c8-4e56-91a0-8abea6b93ea7",
   "metadata": {},
   "outputs": [
    {
     "name": "stdout",
     "output_type": "stream",
     "text": [
      "Welcome to Tic Tac Toe!\n",
      "  |   |  \n",
      "  |   |  \n",
      "  |   |  \n",
      "\n"
     ]
    }
   ],
   "source": [
    "def play_game():\n",
    "    board = [[' ' for _ in range(3)] for _ in range(3)]\n",
    "    print(\"Welcome to Tic Tac Toe!\")\n",
    "    print_board(board)\n",
    "play_game()"
   ]
  },
  {
   "cell_type": "code",
   "execution_count": 21,
   "id": "768072b2-6e7d-458f-a640-f87a8a401129",
   "metadata": {},
   "outputs": [],
   "source": [
    "def check_winner(board):\n",
    "    \n",
    "    for row in board:\n",
    "        if row[0] == row[1] == row[2] and row[0] != ' ':\n",
    "            return row[0]\n",
    "    for col in range(3):\n",
    "        if board[0][col] == board[1][col] == board[2][col] and board[0][col] != ' ':\n",
    "            return board[0][col]\n",
    "    if board[0][0] == board[1][1] == board[2][2] and board[0][0] != ' ':\n",
    "        return board[0][0]\n",
    "    if board[0][2] == board[1][1] == board[2][0] and board[0][2] != ' ':\n",
    "        return board[0][2]\n",
    "    return None\n",
    "\n",
    "board = [[' ' for _ in range(3)] for _ in range(3)]\n",
    "check_winner(board)"
   ]
  },
  {
   "cell_type": "code",
   "execution_count": null,
   "id": "1a013256-db76-4e88-8867-32f52d989564",
   "metadata": {},
   "outputs": [],
   "source": []
  }
 ],
 "metadata": {
  "kernelspec": {
   "display_name": "Python 3 (ipykernel)",
   "language": "python",
   "name": "python3"
  },
  "language_info": {
   "codemirror_mode": {
    "name": "ipython",
    "version": 3
   },
   "file_extension": ".py",
   "mimetype": "text/x-python",
   "name": "python",
   "nbconvert_exporter": "python",
   "pygments_lexer": "ipython3",
   "version": "3.9.18"
  },
  "widgets": {
   "application/vnd.jupyter.widget-state+json": {
    "state": {},
    "version_major": 2,
    "version_minor": 0
   }
  }
 },
 "nbformat": 4,
 "nbformat_minor": 5
}
